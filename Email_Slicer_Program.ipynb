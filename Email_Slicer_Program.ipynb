{
  "nbformat": 4,
  "nbformat_minor": 0,
  "metadata": {
    "colab": {
      "provenance": [],
      "collapsed_sections": []
    },
    "kernelspec": {
      "name": "python3",
      "display_name": "Python 3"
    },
    "language_info": {
      "name": "python"
    }
  },
  "cells": [
    {
      "cell_type": "markdown",
      "source": [
        "A python program takes an email and slices it into the \"username\", \"domain\" and the \"extension\"\n",
        "\n",
        "**Steps**\n",
        "\n",
        "Collect email from user .For example : benad@gmail.com\n",
        "\n",
        "Split the email using @ into 2 parts, 'benad' and 'gmail.com'\n",
        "\n",
        "And finally the second part (gmail.com) using \" . \"(the full stop punctuation)\n"
      ],
      "metadata": {
        "id": "qZyRZ0kXxSjA"
      }
    },
    {
      "cell_type": "code",
      "execution_count": null,
      "metadata": {
        "colab": {
          "base_uri": "https://localhost:8080/"
        },
        "id": "KthIKRwuxEXN",
        "outputId": "91ef3e5e-39d6-4f67-d9bc-3fc9511b1efb"
      },
      "outputs": [
        {
          "output_type": "stream",
          "name": "stdout",
          "text": [
            "Welcome to the email slicer program\n",
            "\n",
            "Enter an email address : benad@gmail.com\n",
            "Username:  benad\n",
            "Domain:  gmail\n",
            "Extension:  com\n",
            "Welcome to the email slicer program\n",
            "\n"
          ]
        }
      ],
      "source": [
        "def main():\n",
        "  print(\"Welcome to the email slicer program\")\n",
        "  print('')\n",
        "\n",
        "  email_input =  input(\"Enter an email address : \")\n",
        "\n",
        "  (username, domain) = email_input.split(\"@\")\n",
        "\n",
        "  (domain, extension) = domain.split(\".\")\n",
        "\n",
        "  print(\"Username: \", username)\n",
        "  print(\"Domain: \", domain)\n",
        "  print(\"Extension: \", extension)\n",
        "\n",
        "while True:\n",
        "  main()"
      ]
    }
  ]
}